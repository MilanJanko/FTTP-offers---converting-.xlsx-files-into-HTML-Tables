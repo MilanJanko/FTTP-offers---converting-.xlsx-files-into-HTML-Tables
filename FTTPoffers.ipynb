{
 "cells": [
  {
   "cell_type": "markdown",
   "source": [
    "Created a script which will convert several .xlsx files (containing several spreadsheets) into HTML files - Shape of Table\n",
    "Short description: Code read files from given directory, adds header name ( this example shows names of sheet, which are Sheet1 and Sheet2) and then builds a list of given text data, without images given in the\n",
    "original .xlsx files."
   ],
   "metadata": {
    "collapsed": false
   }
  },
  {
   "cell_type": "code",
   "execution_count": 4,
   "outputs": [],
   "source": [
    "import pandas as pd\n",
    "import os"
   ],
   "metadata": {
    "collapsed": false,
    "ExecuteTime": {
     "end_time": "2023-07-26T15:57:32.149103900Z",
     "start_time": "2023-07-26T15:57:32.138220500Z"
    }
   }
  },
  {
   "cell_type": "code",
   "execution_count": 8,
   "outputs": [],
   "source": [
    "directory= \"C:/Users/Anja/Desktop/FFTP Offers\""
   ],
   "metadata": {
    "collapsed": false,
    "ExecuteTime": {
     "end_time": "2023-07-26T15:57:55.357394Z",
     "start_time": "2023-07-26T15:57:55.341777400Z"
    }
   }
  },
  {
   "cell_type": "markdown",
   "source": [
    "Function convert_sheet_to_html - reads .xlsx file into a Dataframe, then converts that Dataframe into HTML file"
   ],
   "metadata": {
    "collapsed": false
   }
  },
  {
   "cell_type": "code",
   "execution_count": 23,
   "outputs": [],
   "source": [
    "def convert_sheet_to_html(input_file, output_file, sheet_name):\n",
    "    # Read the specific sheet from the XLSX file into a DataFrame\n",
    "    xls = pd.ExcelFile(input_file)\n",
    "\n",
    "    if sheet_name == xls.sheet_names[0]:\n",
    "        df = pd.read_excel(xls, sheet_name=sheet_name, header=None, skiprows=2)\n",
    "        df = df.iloc[:-7]\n",
    "    else:\n",
    "        df = pd.read_excel(xls, sheet_name=sheet_name, header=None, skiprows=1)\n",
    "\n",
    "    # Convert the DataFrame to an HTML table\n",
    "    html_table = df.to_html(index=False, border=0, na_rep='', header=False, escape=False)\n",
    "    sheet_header = f\"<tr><th colspan={len(df.columns)}><b>{sheet_name}</b></th></tr>\"\n",
    "    html_table = html_table.replace(\"<tbody>\", f\"<tbody>{sheet_header}\", 1)\n",
    "    html_table = html_table.replace(\"<tr>\", \"<tr style='font-weight: bold; text-align: center;'>\", 1)\n",
    "\n",
    "    # Write the HTML table to a file\n",
    "    with open(output_file, 'w') as f:\n",
    "        f.write(html_table)\n",
    "\n",
    "# Creating output directory where HTML files will be saved later.\n",
    "output_directory = \"C:/Users/Anja/Desktop/FFTP Offers HTML\"\n"
   ],
   "metadata": {
    "collapsed": false,
    "ExecuteTime": {
     "end_time": "2023-07-26T16:46:55.785994200Z",
     "start_time": "2023-07-26T16:46:52.698339400Z"
    }
   }
  },
  {
   "cell_type": "code",
   "execution_count": null,
   "outputs": [],
   "source": [
    "# List all files in the input directory\n",
    "xlsx_files = [file for file in os.listdir(directory) if file.endswith('.xlsx')]\n",
    "\n",
    "for xlsx_file in xlsx_files:\n",
    "    input_file_path = os.path.join(directory, xlsx_file)\n",
    "\n",
    "    # Get the list of sheet names in the XLSX file\n",
    "    all_sheets = pd.read_excel(input_file_path, sheet_name=None)"
   ],
   "metadata": {
    "collapsed": false
   }
  },
  {
   "cell_type": "code",
   "execution_count": null,
   "outputs": [],
   "source": [
    "    # Iterate through each sheet and convert it to HTML table\n",
    "    for sheet_name in all_sheets:\n",
    "        output_file_name = f\"{os.path.splitext(xlsx_file)[0]}_{sheet_name}.html\"\n",
    "        output_file_path = os.path.join(output_directory, output_file_name)\n",
    "        convert_sheet_to_html(input_file_path, output_file_path, sheet_name)"
   ],
   "metadata": {
    "collapsed": false
   }
  }
 ],
 "metadata": {
  "kernelspec": {
   "display_name": "Python 3",
   "language": "python",
   "name": "python3"
  },
  "language_info": {
   "codemirror_mode": {
    "name": "ipython",
    "version": 2
   },
   "file_extension": ".py",
   "mimetype": "text/x-python",
   "name": "python",
   "nbconvert_exporter": "python",
   "pygments_lexer": "ipython2",
   "version": "2.7.6"
  }
 },
 "nbformat": 4,
 "nbformat_minor": 0
}
